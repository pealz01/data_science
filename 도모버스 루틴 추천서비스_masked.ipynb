{
 "cells": [
  {
   "cell_type": "code",
   "execution_count": 30,
   "id": "a6f7568b",
   "metadata": {},
   "outputs": [],
   "source": [
    "from surprise import SVD\n",
    "from surprise import Reader, Dataset\n",
    "from surprise import accuracy\n",
    "from surprise.dataset import DatasetAutoFolds\n",
    "from surprise.model_selection import train_test_split\n",
    "from surprise.model_selection import cross_validate\n"
   ]
  },
  {
   "cell_type": "code",
   "execution_count": 98,
   "id": "a3707b09",
   "metadata": {},
   "outputs": [],
   "source": [
    "import sys\n",
    "import logging\n",
    "import pandas as pd \n",
    "import numpy as np\n",
    "import boto3\n",
    "import requests  #필수\n",
    "import base64 #필수\n",
    "import seaborn as sns\n",
    "import matplotlib.pyplot as plt\n",
    "import matplotlib as mpl\n",
    "import pymysql #필수\n",
    "import warnings\n",
    "import json\n",
    "\n",
    "#matplotlib 한글 폰트설정\n",
    "import matplotlib.font_manager as fm\n",
    "font_list = fm.findSystemFonts(fontpaths=None, fontext='ttf')\n",
    "font_name = fm.FontProperties(fname='C:/Windows/Fonts/malgun.ttf').get_name()\n",
    "mpl.rc('font', family=font_name)\n",
    "\n",
    "mpl.rcParams['axes.unicode_minus'] = False\n",
    "\n",
    "pd.set_option('mode.chained_assignment', None)\n",
    "\n",
    "def ignore_warn(*args, **kwargs):\n",
    "    pass\n",
    "warnings.warn = ignore_warn #ignore annoying warning (from sklearn and seaborn)\n",
    "\n",
    "\n",
    "from scipy import stats\n",
    "from scipy.stats import norm, skew #for some statistics\n",
    "\n",
    "\n",
    "pd.set_option('display.float_format', lambda x: '{:.3f}'.format(x)) #Limiting floats output to 3 decimal points "
   ]
  },
  {
   "cell_type": "markdown",
   "id": "92ef10a7",
   "metadata": {},
   "source": [
    "# RDS 세팅"
   ]
  },
  {
   "cell_type": "code",
   "execution_count": 99,
   "id": "f2096983",
   "metadata": {},
   "outputs": [],
   "source": [
    "#RDS info 세팅\n",
    "host = '***'\n",
    "port=9999\n",
    "username = 'username'\n",
    "database='database'\n",
    "password = 'password'\n",
    "\n",
    "userhost = '***'\n",
    "userport=9999\n",
    "userusername = 'userusername'\n",
    "userdatabase='userdatabase'\n",
    "userpassword = 'userpassword'\n",
    "\n",
    "\n",
    "def connect_RDS(host, port, username, password, database):\n",
    "    try :\n",
    "        conn = pymysql.connect(host=host, user=username, passwd=password, db=database, connect_timeout=5)\n",
    "        cursor = conn.cursor()\n",
    "    except Exception as e:\n",
    "        print(e)\n",
    "        #logging.error(\"RDS에 연결되지 않았습니다.\")\n",
    "        sys.exit(1)\n",
    "\n",
    "    return conn, cursor\n",
    "\n",
    "conn, cursor = connect_RDS(host, port, username, password, database)\n",
    "userconn, usercursor = connect_RDS(userhost, userport, userusername, userpassword, userdatabase)\n",
    "\n"
   ]
  },
  {
   "cell_type": "code",
   "execution_count": 100,
   "id": "32d37a0d",
   "metadata": {},
   "outputs": [],
   "source": [
    "def excute_qurey(query,connect = conn):\n",
    "    try:\n",
    "        df = pd.read_sql(query,connect)\n",
    "        return df\n",
    "    except Exception as e:\n",
    "        logging.error(\"Error : {}\".format(e))"
   ]
  },
  {
   "cell_type": "markdown",
   "id": "b5aec01b",
   "metadata": {},
   "source": [
    "# 각 루틴에 대한 소요 시간 기준 추천 모델 만들기\n",
    "### 유저 들이 사용한 루틴 RDS에서 추출, 루틴 선택 하고 사용 내역이 없는 경우 데이터 제외"
   ]
  },
  {
   "cell_type": "code",
   "execution_count": 101,
   "id": "e2499e13",
   "metadata": {},
   "outputs": [],
   "source": [
    "query =\"\"\"\n",
    "쿼리입력\n",
    "\"\"\"\n",
    "\n",
    "routine = excute_qurey(query)"
   ]
  },
  {
   "cell_type": "markdown",
   "id": "98a28e1d",
   "metadata": {},
   "source": [
    "## 루틴ID 및 user_id 마스킹"
   ]
  },
  {
   "cell_type": "code",
   "execution_count": 102,
   "id": "468f3c27",
   "metadata": {
    "scrolled": false
   },
   "outputs": [],
   "source": [
    "routine_id = pd.DataFrame(routine.name.drop_duplicates()).reset_index(drop=True)\n",
    "routine_id['routine_id'] = routine_id.index.tolist()\n",
    "routine_id['routine_id'] = routine_id['routine_id'].apply(str)"
   ]
  },
  {
   "cell_type": "code",
   "execution_count": 103,
   "id": "452f07a3",
   "metadata": {},
   "outputs": [],
   "source": [
    "user_id = pd.DataFrame(routine.user.drop_duplicates()).reset_index(drop=True)\n",
    "user_id['user_id'] = user_id.index.tolist()\n",
    "user_id['user_id'] = user_id['user_id'].apply(str)"
   ]
  },
  {
   "cell_type": "code",
   "execution_count": 104,
   "id": "86dadc15",
   "metadata": {},
   "outputs": [],
   "source": [
    "routine = pd.merge(routine,routine_id, on = 'name')\n",
    "routine = pd.merge(routine,user_id, on = 'user')\n",
    "routine = routine[['user_id','routine_id','time']]\n",
    "routine[['user_id','routine_id']] = routine[['user_id','routine_id']].applymap(str)"
   ]
  },
  {
   "cell_type": "code",
   "execution_count": 105,
   "id": "8b06b531",
   "metadata": {
    "scrolled": true
   },
   "outputs": [
    {
     "data": {
      "text/html": [
       "<div>\n",
       "<style scoped>\n",
       "    .dataframe tbody tr th:only-of-type {\n",
       "        vertical-align: middle;\n",
       "    }\n",
       "\n",
       "    .dataframe tbody tr th {\n",
       "        vertical-align: top;\n",
       "    }\n",
       "\n",
       "    .dataframe thead th {\n",
       "        text-align: right;\n",
       "    }\n",
       "</style>\n",
       "<table border=\"1\" class=\"dataframe\">\n",
       "  <thead>\n",
       "    <tr style=\"text-align: right;\">\n",
       "      <th></th>\n",
       "      <th>user_id</th>\n",
       "      <th>routine_id</th>\n",
       "      <th>time</th>\n",
       "    </tr>\n",
       "  </thead>\n",
       "  <tbody>\n",
       "    <tr>\n",
       "      <th>0</th>\n",
       "      <td>0</td>\n",
       "      <td>0</td>\n",
       "      <td>4.000</td>\n",
       "    </tr>\n",
       "    <tr>\n",
       "      <th>1</th>\n",
       "      <td>0</td>\n",
       "      <td>9</td>\n",
       "      <td>4.000</td>\n",
       "    </tr>\n",
       "    <tr>\n",
       "      <th>2</th>\n",
       "      <td>1</td>\n",
       "      <td>0</td>\n",
       "      <td>1.000</td>\n",
       "    </tr>\n",
       "    <tr>\n",
       "      <th>3</th>\n",
       "      <td>2</td>\n",
       "      <td>0</td>\n",
       "      <td>2.000</td>\n",
       "    </tr>\n",
       "    <tr>\n",
       "      <th>4</th>\n",
       "      <td>2</td>\n",
       "      <td>12</td>\n",
       "      <td>27.000</td>\n",
       "    </tr>\n",
       "  </tbody>\n",
       "</table>\n",
       "</div>"
      ],
      "text/plain": [
       "  user_id routine_id   time\n",
       "0       0          0  4.000\n",
       "1       0          9  4.000\n",
       "2       1          0  1.000\n",
       "3       2          0  2.000\n",
       "4       2         12 27.000"
      ]
     },
     "execution_count": 105,
     "metadata": {},
     "output_type": "execute_result"
    }
   ],
   "source": [
    "routine.head()"
   ]
  },
  {
   "cell_type": "markdown",
   "id": "58d412e6",
   "metadata": {},
   "source": [
    "## time은 현재 루틴을 공부하면 소요된 시간을 분 단위로 측정한 데이터\n",
    "### 하지만 너무 과하게 많은 경우 outlier로 보고 제외하기로 함"
   ]
  },
  {
   "cell_type": "code",
   "execution_count": 155,
   "id": "280e31bf",
   "metadata": {
    "scrolled": false
   },
   "outputs": [
    {
     "data": {
      "text/plain": [
       "Text(0.5, 1.0, 'ln(time) 기준 Boxplot')"
      ]
     },
     "execution_count": 155,
     "metadata": {},
     "output_type": "execute_result"
    },
    {
     "data": {
      "image/png": "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\n",
      "text/plain": [
       "<Figure size 1080x432 with 1 Axes>"
      ]
     },
     "metadata": {
      "needs_background": "light"
     },
     "output_type": "display_data"
    }
   ],
   "source": [
    "f, ax = plt.subplots(figsize=(15, 6))\n",
    "plt.xticks(np.arange(0,20,0.5))\n",
    "sns.boxplot(np.log1p(routine.time))\n",
    "plt.title(\"ln(time) 기준 Boxplot\")"
   ]
  },
  {
   "cell_type": "markdown",
   "id": "45e58206",
   "metadata": {},
   "source": [
    "### 위의 boxplot은 ln(time) 기준 이며 7보다 큰 경우가 388건 확인됨, 7보다 큰 경우 전체 제외한다.\n",
    "1개의 루틴은 총 6일 기준이며 하루 8시간 6일씩 공부할 경우 공부시간 2880분, ln(time) 기준 8 정도 된다.   \n",
    "루틴은 한 과목에 대한 1주일 공부 플랜이며 한 과목을 하루에 8시간 씩 공부하는 경우는 극히 드물다고 판단, 8 이상은 제외함   "
   ]
  },
  {
   "cell_type": "code",
   "execution_count": 268,
   "id": "acdaa6f6",
   "metadata": {},
   "outputs": [],
   "source": [
    "routine_filter = routine[np.log1p(routine.time) < 8]"
   ]
  },
  {
   "cell_type": "code",
   "execution_count": 269,
   "id": "3f419d6a",
   "metadata": {},
   "outputs": [
    {
     "data": {
      "text/plain": [
       "<AxesSubplot:xlabel='time'>"
      ]
     },
     "execution_count": 269,
     "metadata": {},
     "output_type": "execute_result"
    },
    {
     "data": {
      "image/png": "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\n",
      "text/plain": [
       "<Figure size 1080x432 with 1 Axes>"
      ]
     },
     "metadata": {
      "needs_background": "light"
     },
     "output_type": "display_data"
    }
   ],
   "source": [
    "f, ax = plt.subplots(figsize=(15, 6))\n",
    "sns.boxplot(routine_filter.time)"
   ]
  },
  {
   "cell_type": "code",
   "execution_count": 270,
   "id": "1681c7b0",
   "metadata": {},
   "outputs": [
    {
     "data": {
      "text/html": [
       "<div>\n",
       "<style scoped>\n",
       "    .dataframe tbody tr th:only-of-type {\n",
       "        vertical-align: middle;\n",
       "    }\n",
       "\n",
       "    .dataframe tbody tr th {\n",
       "        vertical-align: top;\n",
       "    }\n",
       "\n",
       "    .dataframe thead th {\n",
       "        text-align: right;\n",
       "    }\n",
       "</style>\n",
       "<table border=\"1\" class=\"dataframe\">\n",
       "  <thead>\n",
       "    <tr style=\"text-align: right;\">\n",
       "      <th></th>\n",
       "      <th>time</th>\n",
       "    </tr>\n",
       "  </thead>\n",
       "  <tbody>\n",
       "    <tr>\n",
       "      <th>count</th>\n",
       "      <td>5779.000</td>\n",
       "    </tr>\n",
       "    <tr>\n",
       "      <th>mean</th>\n",
       "      <td>311.364</td>\n",
       "    </tr>\n",
       "    <tr>\n",
       "      <th>std</th>\n",
       "      <td>364.385</td>\n",
       "    </tr>\n",
       "    <tr>\n",
       "      <th>min</th>\n",
       "      <td>1.000</td>\n",
       "    </tr>\n",
       "    <tr>\n",
       "      <th>25%</th>\n",
       "      <td>24.000</td>\n",
       "    </tr>\n",
       "    <tr>\n",
       "      <th>50%</th>\n",
       "      <td>202.000</td>\n",
       "    </tr>\n",
       "    <tr>\n",
       "      <th>75%</th>\n",
       "      <td>479.000</td>\n",
       "    </tr>\n",
       "    <tr>\n",
       "      <th>max</th>\n",
       "      <td>2936.000</td>\n",
       "    </tr>\n",
       "  </tbody>\n",
       "</table>\n",
       "</div>"
      ],
      "text/plain": [
       "          time\n",
       "count 5779.000\n",
       "mean   311.364\n",
       "std    364.385\n",
       "min      1.000\n",
       "25%     24.000\n",
       "50%    202.000\n",
       "75%    479.000\n",
       "max   2936.000"
      ]
     },
     "execution_count": 270,
     "metadata": {},
     "output_type": "execute_result"
    }
   ],
   "source": [
    "routine_filter.describe()"
   ]
  },
  {
   "cell_type": "markdown",
   "id": "762f87a4",
   "metadata": {},
   "source": [
    "## 제외한 이후 루틴 별 공부시간 분포 히스토그램"
   ]
  },
  {
   "cell_type": "code",
   "execution_count": 271,
   "id": "534254db",
   "metadata": {
    "scrolled": true
   },
   "outputs": [
    {
     "data": {
      "text/plain": [
       "<AxesSubplot:xlabel='time', ylabel='Count'>"
      ]
     },
     "execution_count": 271,
     "metadata": {},
     "output_type": "execute_result"
    },
    {
     "data": {
      "image/png": "iVBORw0KGgoAAAANSUhEUgAAAYEAAAEECAYAAADOJIhPAAAAOXRFWHRTb2Z0d2FyZQBNYXRwbG90bGliIHZlcnNpb24zLjMuNCwgaHR0cHM6Ly9tYXRwbG90bGliLm9yZy8QVMy6AAAACXBIWXMAAAsTAAALEwEAmpwYAAASf0lEQVR4nO3df6zd933X8ecrPxynIyx24hh25ztDGpK52SbG7YJb8gNpm1InpVOwFGi3ViKaLYsiTVGDgNKpk7f9Ma8lakshHlTVYHK7JBJk2qYNwpwaJ1XjVBNNyUwRdWPX0nC9roSmuDP3zR/na3FyfX1/+X7P915/ng/pyOf7Pd9z7stWcl738/3x+aaqkCS16aqhA0iShmMJSFLDLAFJapglIEkNswQkqWHXDB1guW6++ebavn370DEkaV156aWXvlFVW+auX3clsH37do4dOzZ0DElaV5J8bb717g6SpIZZApLUMEtAkhpmCUhSwywBSWqYJSBJDbMEJKlhloAkNcwSkKSGWQKSJmZq2zRJlvWY2jY9dOwrWm/TRiT5MeBXgauBf989PglsBJ6vqse67fYD93RZ9lTVl/vKJGlYp0+d5OEnnl/Wez679209pRH0VAJJrgV+HnhXVX2zW/e7wCNVdSLJk0nuAjYAW6vq3iR3AgeAXX1kkiRdrK+RwDuArwGHukL4x8DGqjrRvf40sBO4CTgEUFUvJ9ncUx5J0jz6KoHbgM3Ag8D3A38AvDT2+lngB4FbgDNj688nuaqqZsc/LMkeYA/A9LT7ByVptfR1YPg88PtVdb777f9PgE1jr29i9OX/rTnrZ+cWAEBVHayqmaqa2bLloumwJUkr1FcJvMBolxBJtgKvARuSTHWvPwQ8CxwBdnfb7QBO9ZRHkjSPXnYHVdUXkhxPcpTRqOBRRoXzVJJzwDNV9UqS48CuJEcYFcXePvJIkubX2ymiVfUh4ENzVu+cs80ssK+vDJL6M7VtmtOnTg4dQ5dp3d1eUtLa4Dn/VwavGJakhlkCktQwS0CSGmYJSFLDLAFJapglIEkNswQkqWGWgCQ1zBKQpIZZApLUMEtAkhpmCUhSwywBSWqYJSBJDbMEJKlhloAkNcwSkKSGWQKS1rarriHJsh5T26aHTr1ueHtJSWvb7HlvY9kjRwKS1DBLQJIaZglIUsMsAUlqmCUgSQ2zBCSpYb2dIprkS8DZbvEg8BLwSWAj8HxVPdZttx+4p8uyp6q+3FcmSdIb9XmdwB9X1Y9fWEjyu8AjVXUiyZNJ7gI2AFur6t4kdwIHgF09ZpIkjemzBGYvPElyDbCxqk50q54GdgI3AYcAqurlJJt7zCNJmqOXYwJJvge4Ncnnkvwm8Bf5/7uG6J5vAm4BzoytP5/kokxJ9iQ5luTYmTNn5r4sSVqhXkYCVfVt4FaAJD8BfBS4cWyTTYy+/K/vnl8wW1WzzFFVBxkdV2BmZqb6yCxJLeprJHD12OIZoIDrkkx16x4CngWOALu79+wATvWRR5I0v76OCbw5yaeA73aPfYz2/z+V5BzwTFW9kuQ4sCvJEeA1YG9PeSRJ8+hrd9Bx4O1zVv8PRgeDx7ebZVQQkgYytW2a06dODh1DA3Eqaalxp0+dXPZUzeB0zVcKrxiWpIZZApLUMEtAkhpmCUhSwywBSWqYJSBJDbMEJKlhloAkNcwSkKSGWQKS1DBLQJIaZglIUsMsAUlqmCUgSQ2zBCSpYZaAJDXMEpCkhlkCktQwS0CSGmYJSFLDmiqBqW3TJFnWY2rb9NCxJak31wwdYJJOnzrJw088v6z3fHbv23pKI0nDa2okIEl6I0tAkhpmCUhSw3otgSRfTHJ/ktuTPJvkaJIDY6/vT/Jct/4tfWaRJF2stwPDSXYD39stPg48UlUnkjyZ5C5gA7C1qu5NcidwANjVVx5J0sV6KYEkNwA/A/xG9zM2VtWJ7uWngZ3ATcAhgKp6OcnmPrJIki6tr91BHwN+EZgFbgDOjr12FtgE3AKcGVt/Psm8eZLsSXIsybEzZ87Mt4kkVnYtjNq26iOBJO8BXq2qF5M8APwpcOPYJpsYfflf3z2/YLaqZuf7zKo6CBwEmJmZqdXOLF0pvBZGy9XH7qB3A68n+QxwJ3AfcHuSqar6OvAQ8AvAm4HdwJEkO4BTPWSRJC1g1Uugqh648DzJh4HPM9oF9FSSc8AzVfVKkuPAriRHgNeAvaudRZK0sF6njaiqD48t7pzz2iywr8+fL0lamBeLSVLDLAFJapglIEkNswQkqWGWgCQ1zBKQpIZZApLUMEtAkhpmCUhSwywBSWrYkkogyX1zlv9GH2EkSZO1YAlk5Drgw0muTbIhyZ8HPj6ZeJKkPi02gdzbGN0c5keA3wMCnAc+3W8sSdIkLFgCVXUU+JtJ/klV/fKEMkmSJmSpU0kf6O4StpnRaICq+vXeUkmSJmKpJfDbwH8F/gjw9o6SdIVYaglsrKqf6zOIJGnylnqdwOEkf6XXJJKkiVvqSOAngHcnOdMtV1W9radMkqQJWVIJVNXOxbeSJK03SyqBJO+du86zgyRp/VvqMYHrxx4/BNzfWyJJ0sQsdXfQE+PLST7YTxxJ0iQtexbRbi6hH+ohiyRpwpZ6TOAFRheJXZg76Ff7DCVJmgzPDpKkhi31fgLbkzyZ5GiSX09yyyLbb0jyW0kOJ3kuyVSS25M8233GgbFt93fbHE3ylsv9C0mSlm6pF4s9AXywqo4l+WvAJ4HdC2x/Hni4ql5P8tPA+4C7gUeq6kRXKHcBG4CtVXVvkjuBA8CuFf9tJEnLstQDwxuq6hhAVb0E3LjQxlU1W1Wvd4u3AV9iNP/QiW7d08BO4CeBQ917XmY0S+lFkuxJcizJsTNnzsy3iSRpBZZaApVkM0D353WLvSHJY0m+AswAXwTOjr18FtgE3AKMf6ufT3JRpqo6WFUzVTWzZcuWJUaWJC1mqbuDPgj8XpKvA9uAn1vsDVV1gNF9CN4BfJQ3jh42Mfryv757fsFsVc0uMZN0RZvaNs3pUyeHjqEr3IIlkORfAfuq6gXgrUluBr4DfAg4ssD7bgD+d1UV8CpwNXBdkqmq+jrwEPALwJsZHVs4kmQHcGoV/k7SFeH0qZM8/MTzy3rPZ/c6r6OWZ7GRwG1V9WcXFqrqGwBJZhZ53x3A40nOMSqN9wM3A091656pqleSHAd2JTkCvAbsXeHfQ5K0AouVwIaVvK+qXgTePmf1VxkdDB7fbhbYt0gGSVJPFjswfDzJ3eMrunP5v9VfJEnSpCw2EvgA8O+S/EfgDxntw/+7wN/pOZckaQIWHAl0xwDuY3Se/x3AaeC+qvpK/9EkSX1b9BTRqjrP6OIuLdFKT+37vu/fxtdPvtpDIkma31KvE9AyrOTUPvD0PkmTt+z7CUiSrhyWgCQ1zBKQpIZZApLUMEtAkhpmCUi68lx1DUmW/ZjaNj108onzFFFJV57Z856mvUSOBCSpYZaAJDXMEpAmYGrb9LL3T0uT4DEBaQK8S5jWKkcCktQwS0CSGmYJSFLDLAFJapglIEkNswQkqWGWgCQ1zBKQpIZZApLUMEtAWoaVTP/gFBBay3qZNiLJjcC/BP4Co6J5H7AB+CSwEXi+qh7rtt0P3NNl2VNVX+4jk7QaVjL9AzgFhNauvuYOehPwaFWdTvIA8AHgLwOPVNWJJE8muYtRMWytqnuT3AkcAHb1lEmSNEcvJVBVp8cWvwmcAzZW1Ylu3dPATuAm4FD3npeTbJ7v85LsAfYATE+3d+cfSepLr8cEkkwxGgV8BDg79tJZYBNwC3BmbP35JBdlqqqDVTVTVTNbtmzpM7IkNaW3qaSTPAi8E/hZ4HXgxrGXNzH68r++e37BbFXN9pVJkvRGvYwEkvww8M6q2ltVZ6vqO8B13cgA4CHgWeAIsLt7zw7gVB95NJyVnE3T4s2+paH0NRK4H7g7yeFu+VXgUeCpJOeAZ6rqlSTHgV1JjgCvAXt7yqOBeDMVaW3r68DwrwC/Ms9LO+dsNwvs6yODJGlxXiwmSQ2zBCSpYZaAmrWSg9bSlaa3U0Sltc6D1pIjAUlqmiUgSQ2zBCSpYZaAJDXMEtAVwTN9pJXx7CBdETzTR1oZRwKS1DBLQJIaZgmsJVdd47TLkibKYwJryex592tLmihHApJ0QYOjcUcCknRBg6NxRwKS1DBLQJIa5u4grT3dfllJ/bMEtCRT26Y5ferkZH5Yg/tlpaFYAg1a6Rf6cr+YwS9naa2zBBrkPDuSLvDAsCQ1zBKQpIZZApLUsF5KIMmWJL+UZH+3fHuSZ5McTXJgbLv9SZ7r1r+ljyySpEvrayTwEeAccG23/DjwSFW9Hdie5K4kdwNbq+peYC9wYN5PkiT1ppezg6rqvUnuA+5Pcg2wsapOdC8/DewEbgIOddu/nGRzH1kumxcuSbqCTeIU0S3A2bHls8APArcAZ8bWn09yVVXNzv2AJHuAPQDT0xOesc8LlyRdwSZxYPhPgRvHljcx+vL/Vvf8gtn5CgCgqg5W1UxVzWzZsqWvnJLUnN5LoKq+A1yXZKpb9RDwLHAE2A2QZAdwqu8skqQ3mtQVw48CTyU5BzxTVa8kOQ7sSnIEeI3RwWFJ0gT1VgJVdRg43D1/kdHB4PHXZ4F9ff18SdLinDtovfPsJUmXwRJY7zx7SdJlcNoISWqYJSBJDbMEJKlhloAkNcwSkKSGWQKS1DBLQJIaZglIUsMsAUlqmCUgSZejm7plOY+pbRO+L8oCnDZCki7HOp+6xZGAJDXMEpCkhlkCktQwS0CSGmYJSFLDLAFJapglIEkNswQkqWGWgCQ1zBKQpIZZApI0aWtoviHnDpKkSVtD8w05EpCkhq2JEkiyP8lzSY4mecvQeSSpFYOXQJK7ga1VdS+wFzgwcCRJasbgJQD8JHAIoKpeBjYPG0eS2pGqGjZA8gTw8a4ASPKfgXuqanZsmz3Anm7xduD4BCPeDHxjgj9vJdZDRjDnalsPOddDRmgj5w9U1Za5K9fC2UHfAjaNLc+OFwBAVR0EDk40VSfJsaqaGeJnL9V6yAjmXG3rIed6yAht51wLu4OOALsBkuwATg0bR5LasRZGAr8N7EpyBHiN0cFhSdIEDF4C3a6ffUPnWMAgu6GWaT1kBHOutvWQcz1khIZzDn5gWJI0nLVwTECSNBBLQJIaZglcQpItSX4pyf6hs1xKkhuTfCbJ4SSfS/KXhs40nyQbkvxWl/O5JFNDZ1pIki8muX/oHAtJ8qXu3/NwkncPnWc+SX6s++/yaJJ/OHSe+SR5/9i/4+Eka/ZagSSPjk2v81dX63MHPzC8hn0E+O/Am4YOsoA3AY9W1ekkDwAfAP7+wJnmcx54uKpeT/LTwPuAXx4407yS7Aa+d+gcS/DHVfXjQ4e4lCTXAj8PvKuqvjl0nkupqk8AnwBI8reBtfqL1I3A3wLuA24F/hnwztX4bEcCl1BV7wU+N3SOhVTV6ao63S1+E/j2kHkupapmq+r1bvE24EtD5rmUJDcAPwP8xtBZlmB28U0G9Q7ga8ChJM8m+dGhAy0kyVWMfoH6xNBZLuH/Mvq+3sDoquEzq/XBlsAVoNu98gHg8YGjXFKSx5J8BZgB/tPQeS7hY8Avssa/YJN8D3Brt6vlN5NsGzrTPG5jNA/Yg8AjwD8fNs6i3gX8h6r6P0MHmU9Vvcbol9JXgGcYjQRWhSWwziV5kNGw+2fHRgVrTlUdqKrbGP2mtea+EJK8B3i1ql4cOstiqurbVXVrVd0D/BqjXZdrzXng96vqfFWdAGaTZOBMC/l7wL8eOsSldLt7r2W0K+gO4GPdLrfLZgmsY0l+GHhnVe2tqrND57mUJDeMfQG8Cvy5IfNcwruBHUk+w2gak3+U5PaBM80rydVji6u2W2CVvcBolxBJtgJ/Vmv0oqQkNwEbq+p/Dp1lAT/A6DhQAf8LuAHYuBof7IHh9e1+4O4kh7vlV7tjGWvNHcDjSc4B3wHeP3Cei1TVAxeeJ/kw8PmqmuRstcvx5iSfAr7bPdbcFfdV9YUkx5McZTQqeHToTAu4h1FprWWfBj6V5DngOuCJbhfRZfOKYUlqmLuDJKlhloAkNcwSkKSGWQKS1DBLQJIaZglIS5Dkvu7PR5N837BppNXjKaLSEiT5fFX99aFzSKvNkYC0iCQfZ3Q18eFurp47kmxP8jtJfi3Jy0keSPJvk7yY5KPd+65O8i+S/EE3idqanKFSbfOKYWkRVfUPkry1qu5L8umxl24FforRNBgngB+pqq8m+S9JrgfeAxyvqn1JdgD/lNFkatKaYQlIK/eHVfVd4E+S/FFVfbVb/yqjexL8KPDWJD/VrV+r8/yoYZaAtDTz/b8yfkBtvumn/xvwQlX9G4Aka/kGRWqUxwSkpflcki8wmrxrqQ4CD3a3BPwd4K5+okkr59lBktQwRwKS1DBLQJIaZglIUsMsAUlqmCUgSQ2zBCSpYZaAJDXs/wH0U8odAbXBpwAAAABJRU5ErkJggg==\n",
      "text/plain": [
       "<Figure size 432x288 with 1 Axes>"
      ]
     },
     "metadata": {
      "needs_background": "light"
     },
     "output_type": "display_data"
    }
   ],
   "source": [
    "sns.histplot(np.log1p(routine_filter.time))"
   ]
  },
  {
   "cell_type": "code",
   "execution_count": 248,
   "id": "303c8b16",
   "metadata": {},
   "outputs": [],
   "source": [
    "routine_filter['time'] = np.log1p(routine_filter['time'])"
   ]
  },
  {
   "cell_type": "markdown",
   "id": "e7369c9e",
   "metadata": {},
   "source": [
    "## 훈련데이터 routine_filter 에 대한 설명\n",
    "|변수명|내용|비고|\n",
    "|:---:|:---:|:---:|\n",
    "|user_id|유저ID||\n",
    "|routine_id|루틴ID||\n",
    "|time|공부시간|log1p(공부시간min) 결과|\n"
   ]
  },
  {
   "cell_type": "code",
   "execution_count": 249,
   "id": "c202cd75",
   "metadata": {},
   "outputs": [
    {
     "data": {
      "text/html": [
       "<div>\n",
       "<style scoped>\n",
       "    .dataframe tbody tr th:only-of-type {\n",
       "        vertical-align: middle;\n",
       "    }\n",
       "\n",
       "    .dataframe tbody tr th {\n",
       "        vertical-align: top;\n",
       "    }\n",
       "\n",
       "    .dataframe thead th {\n",
       "        text-align: right;\n",
       "    }\n",
       "</style>\n",
       "<table border=\"1\" class=\"dataframe\">\n",
       "  <thead>\n",
       "    <tr style=\"text-align: right;\">\n",
       "      <th></th>\n",
       "      <th>user_id</th>\n",
       "      <th>routine_id</th>\n",
       "      <th>time</th>\n",
       "    </tr>\n",
       "  </thead>\n",
       "  <tbody>\n",
       "    <tr>\n",
       "      <th>0</th>\n",
       "      <td>0</td>\n",
       "      <td>0</td>\n",
       "      <td>1.609</td>\n",
       "    </tr>\n",
       "    <tr>\n",
       "      <th>1</th>\n",
       "      <td>0</td>\n",
       "      <td>9</td>\n",
       "      <td>1.609</td>\n",
       "    </tr>\n",
       "    <tr>\n",
       "      <th>2</th>\n",
       "      <td>1</td>\n",
       "      <td>0</td>\n",
       "      <td>0.693</td>\n",
       "    </tr>\n",
       "    <tr>\n",
       "      <th>3</th>\n",
       "      <td>2</td>\n",
       "      <td>0</td>\n",
       "      <td>1.099</td>\n",
       "    </tr>\n",
       "    <tr>\n",
       "      <th>4</th>\n",
       "      <td>2</td>\n",
       "      <td>12</td>\n",
       "      <td>3.332</td>\n",
       "    </tr>\n",
       "    <tr>\n",
       "      <th>...</th>\n",
       "      <td>...</td>\n",
       "      <td>...</td>\n",
       "      <td>...</td>\n",
       "    </tr>\n",
       "    <tr>\n",
       "      <th>5956</th>\n",
       "      <td>2880</td>\n",
       "      <td>33</td>\n",
       "      <td>5.403</td>\n",
       "    </tr>\n",
       "    <tr>\n",
       "      <th>5957</th>\n",
       "      <td>2881</td>\n",
       "      <td>33</td>\n",
       "      <td>3.664</td>\n",
       "    </tr>\n",
       "    <tr>\n",
       "      <th>5958</th>\n",
       "      <td>2882</td>\n",
       "      <td>33</td>\n",
       "      <td>2.197</td>\n",
       "    </tr>\n",
       "    <tr>\n",
       "      <th>5959</th>\n",
       "      <td>2883</td>\n",
       "      <td>33</td>\n",
       "      <td>6.680</td>\n",
       "    </tr>\n",
       "    <tr>\n",
       "      <th>5960</th>\n",
       "      <td>2884</td>\n",
       "      <td>33</td>\n",
       "      <td>1.792</td>\n",
       "    </tr>\n",
       "  </tbody>\n",
       "</table>\n",
       "<p>5779 rows × 3 columns</p>\n",
       "</div>"
      ],
      "text/plain": [
       "     user_id routine_id  time\n",
       "0          0          0 1.609\n",
       "1          0          9 1.609\n",
       "2          1          0 0.693\n",
       "3          2          0 1.099\n",
       "4          2         12 3.332\n",
       "...      ...        ...   ...\n",
       "5956    2880         33 5.403\n",
       "5957    2881         33 3.664\n",
       "5958    2882         33 2.197\n",
       "5959    2883         33 6.680\n",
       "5960    2884         33 1.792\n",
       "\n",
       "[5779 rows x 3 columns]"
      ]
     },
     "execution_count": 249,
     "metadata": {},
     "output_type": "execute_result"
    }
   ],
   "source": [
    "routine_filter"
   ]
  },
  {
   "cell_type": "markdown",
   "id": "48db5a63",
   "metadata": {},
   "source": [
    "## scikit-surprise 내 SVD 이용 사용자 기반 잠재 요인 협업 필터링 기반 추천 모델 생성"
   ]
  },
  {
   "cell_type": "code",
   "execution_count": 250,
   "id": "531744ef",
   "metadata": {},
   "outputs": [],
   "source": [
    "#데이터 reader 세팅, line_format 내 유저, 항목, 점수에 대한 칼럼 정보를 입력해야한다.\n",
    "reader = Reader(line_format='user item rating')\n",
    "\n",
    "data = Dataset.load_from_df(routine_filter, reader=reader)\n",
    "#train-test 데이터 분할\n",
    "trainset, testset  = train_test_split(data, test_size=.25, random_state=0)"
   ]
  },
  {
   "cell_type": "code",
   "execution_count": 251,
   "id": "39cfca70",
   "metadata": {},
   "outputs": [
    {
     "name": "stdout",
     "output_type": "stream",
     "text": [
      "1.7919131562131376\n",
      "{'n_epochs': 50, 'n_factors': 10}\n"
     ]
    }
   ],
   "source": [
    "from surprise.model_selection import GridSearchCV\n",
    "\n",
    "#하이퍼 파라미터 튜닝\n",
    "param_grid = {'n_epochs': np.arange(10,100,5), 'n_factors': np.arange(10,100,10)}\n",
    "gs = GridSearchCV(SVD, param_grid, measures=['rmse', 'mse'], cv=3)\n",
    "gs.fit(data)\n",
    "print(gs.best_score['rmse'])\n",
    "print(gs.best_params['rmse'])"
   ]
  },
  {
   "cell_type": "code",
   "execution_count": 252,
   "id": "816d5e90",
   "metadata": {
    "scrolled": true
   },
   "outputs": [
    {
     "name": "stdout",
     "output_type": "stream",
     "text": [
      "RMSE: 1.7966\n"
     ]
    },
    {
     "data": {
      "text/plain": [
       "1.7966295297422454"
      ]
     },
     "execution_count": 252,
     "metadata": {},
     "output_type": "execute_result"
    }
   ],
   "source": [
    "#n_epochs는 크기를 늘려도 큰 변화가 없어 50으로 고정\n",
    "algo = SVD(n_epochs=50, n_factors=20, random_state=0)\n",
    "algo.fit(trainset)\n",
    "\n",
    "algo.fit(trainset)\n",
    "predictions = algo.test(testset)\n",
    "accuracy.rmse(predictions)"
   ]
  },
  {
   "cell_type": "markdown",
   "id": "42e17255",
   "metadata": {},
   "source": [
    "## 하이퍼 파라미터 튜닝 완료 이후 전체 데이터를 이용하여 모델 Train 시킨다.\n",
    "위에서는 train, test 데이터를 train_test_split 함수를 통해 나눴지만   \n",
    "전체 데이터를 train으로 사용하기 위해서는 DatasetAutoFolds 함수를 import 해여 사용해야한다.\n"
   ]
  },
  {
   "cell_type": "code",
   "execution_count": 253,
   "id": "6de0d838",
   "metadata": {},
   "outputs": [
    {
     "data": {
      "text/plain": [
       "<surprise.prediction_algorithms.matrix_factorization.SVD at 0x17eb0ef92e0>"
      ]
     },
     "execution_count": 253,
     "metadata": {},
     "output_type": "execute_result"
    }
   ],
   "source": [
    "data_folds = DatasetAutoFolds(df=routine_filter, reader=reader)\n",
    "trainset = data_folds.build_full_trainset()\n",
    "algo.fit(trainset)\n"
   ]
  },
  {
   "cell_type": "code",
   "execution_count": 254,
   "id": "c4f0564a",
   "metadata": {},
   "outputs": [],
   "source": [
    "def get_never_took_surprise(routine_df,userId):\n",
    "    global routine_id\n",
    "    routine_took = routine_df[routine_df['user_id'] == str(userId)]\n",
    "    took = routine_took['routine_id'].apply(str)\n",
    "    never_took = routine_id[~routine_id.routine_id.isin(took)]\n",
    "    print('참여한 루틴 수:', len(took),'참여한 루틴 평균 공분 시간(분):', round(np.exp(np.mean(routine_took.time)),1) , '추천 대상 루틴 수:', len(never_took), '전체 루틴 수:', len(routine_id))\n",
    "\n",
    "    return never_took['routine_id']\n"
   ]
  },
  {
   "cell_type": "code",
   "execution_count": 265,
   "id": "e4e5b587",
   "metadata": {},
   "outputs": [
    {
     "name": "stdout",
     "output_type": "stream",
     "text": [
      "참여한 루틴 수: 1 참여한 루틴 평균 공분 시간(분): 95.0 추천 대상 루틴 수: 33 전체 루틴 수: 34\n",
      "### Recommendation Top 10 #######\n",
      "2022 AOK 8주차 승리하기 (워크북 포함)  루틴 공부 예상 시간(분): 148.4131591025766\n",
      "2022 AOK 10주차 승리하기 (워크북 포함)  루틴 공부 예상 시간(분): 148.4131591025766\n",
      "2022 AOK 9주차 승리하기 (워크북 포함)  루틴 공부 예상 시간(분): 118.09168340104507\n",
      "2022 AOK 7주차 승리하기 (워크북 포함)  루틴 공부 예상 시간(분): 105.36431506141528\n",
      "2022 AOK 8주차 승리하기 (워크북 X)  루틴 공부 예상 시간(분): 100.38040840094024\n",
      "2022 AOK 13주차 승리하기 (워크북 포함)  루틴 공부 예상 시간(분): 99.89885065368408\n",
      "2022 AOK 2주차 승리하기 (워크북 포함)  루틴 공부 예상 시간(분): 94.11733735604251\n",
      "2022 AOK 3주차 승리하기 (워크북 포함)  루틴 공부 예상 시간(분): 90.6768853016797\n",
      "2022 AOK 4주차 승리하기 (워크북 X)  루틴 공부 예상 시간(분): 88.2297952295253\n",
      "2022 AOK 6주차 승리하기 (워크북 포함)  루틴 공부 예상 시간(분): 87.57465664152643\n"
     ]
    }
   ],
   "source": [
    "def recomm_routine_by_surprise(algo, userId, never_took, top_n=10):\n",
    "    global routine_id\n",
    "    predictions = [algo.predict(str(userId), str(routine_id)) for routine_id in never_took]\n",
    "\n",
    "    def sortkey_est(pred):\n",
    "        return pred.est\n",
    "\n",
    "    predictions.sort(key=sortkey_est, reverse=True)\n",
    "    top_predictions = predictions[:top_n]\n",
    "\n",
    "    top_routine_ids = [str(pred.iid) for pred in top_predictions]\n",
    "    top_routine_rating = [pred.est for pred in top_predictions]\n",
    "    top_routine_titles = routine_id[routine_id.routine_id.isin(top_routine_ids)]['name']\n",
    "    top_routine_pred = [(id, title, rating) for id, title, rating in zip(top_routine_ids, top_routine_titles, top_routine_rating)]\n",
    "    return top_routine_pred\n",
    "    \n",
    "    \n",
    "never_took = get_never_took_surprise(routine_filter, 52)\n",
    "top_routine_preds = recomm_routine_by_surprise(algo, 52, never_took, top_n=10)\n",
    "\n",
    "print('### Recommendation Top 10 #######')\n",
    "for top_routine in top_routine_preds:\n",
    "    print(top_routine[1], \" 루틴 공부 예상 시간(분):\", np.exp(top_routine[2]))\n"
   ]
  },
  {
   "cell_type": "markdown",
   "id": "c541c97d",
   "metadata": {},
   "source": [
    "## 코싸인 유사도 기준 아이템 기반 잠재 요인 협업 필터링 기반 추천 모델 생성\n",
    "이전에는 사용자들의 이용 현황을 기준으로 모델을 생성한 뒤, 사용자 A가 루틴 X를 사용했을 때 예상되는 공부시간을 예측했다.    \n",
    "아래는 루틴 X 기준으로 다른 루틴과 코싸인 유사도를 측정하는 모델을 생성했다."
   ]
  },
  {
   "cell_type": "code",
   "execution_count": 256,
   "id": "7c6576d5",
   "metadata": {},
   "outputs": [],
   "source": [
    "#루틴 기준 유저 별 공부 시간 피버팅\n",
    "routine_pivot = routine_filter.pivot_table('time',index='routine_id',columns='user_id').fillna(0)\n"
   ]
  },
  {
   "cell_type": "code",
   "execution_count": 257,
   "id": "9a47d7f7",
   "metadata": {},
   "outputs": [],
   "source": [
    "from sklearn.metrics.pairwise import cosine_similarity\n",
    "#참조  - https://lsjsj92.tistory.com/568\n",
    "#피버팅 된 DF를 이용하여 코사인 유사도 계산\n",
    "item_based_collabor = cosine_similarity(routine_pivot)"
   ]
  },
  {
   "cell_type": "code",
   "execution_count": 258,
   "id": "3b4bb167",
   "metadata": {},
   "outputs": [],
   "source": [
    "item_based_collabor_df = pd.DataFrame(item_based_collabor)"
   ]
  },
  {
   "cell_type": "code",
   "execution_count": 264,
   "id": "3cd66fc9",
   "metadata": {
    "scrolled": false
   },
   "outputs": [
    {
     "data": {
      "text/html": [
       "<div>\n",
       "<style scoped>\n",
       "    .dataframe tbody tr th:only-of-type {\n",
       "        vertical-align: middle;\n",
       "    }\n",
       "\n",
       "    .dataframe tbody tr th {\n",
       "        vertical-align: top;\n",
       "    }\n",
       "\n",
       "    .dataframe thead th {\n",
       "        text-align: right;\n",
       "    }\n",
       "</style>\n",
       "<table border=\"1\" class=\"dataframe\">\n",
       "  <thead>\n",
       "    <tr style=\"text-align: right;\">\n",
       "      <th></th>\n",
       "      <th>name</th>\n",
       "      <th>similarity</th>\n",
       "    </tr>\n",
       "  </thead>\n",
       "  <tbody>\n",
       "    <tr>\n",
       "      <th>0</th>\n",
       "      <td>2022 AOK 10주차 승리하기 (워크북 포함)</td>\n",
       "      <td>0.730</td>\n",
       "    </tr>\n",
       "    <tr>\n",
       "      <th>1</th>\n",
       "      <td>2022 AOK 9주차 승리하기 (워크북 X)</td>\n",
       "      <td>0.674</td>\n",
       "    </tr>\n",
       "    <tr>\n",
       "      <th>2</th>\n",
       "      <td>2022 AOK 15주차 승리하기 (워크북 포함)</td>\n",
       "      <td>0.619</td>\n",
       "    </tr>\n",
       "    <tr>\n",
       "      <th>3</th>\n",
       "      <td>2022 AOK 2주차 승리하기 (워크북 포함)</td>\n",
       "      <td>0.555</td>\n",
       "    </tr>\n",
       "    <tr>\n",
       "      <th>4</th>\n",
       "      <td>2022 AOK 15주차 승리하기 (워크북 X)</td>\n",
       "      <td>0.515</td>\n",
       "    </tr>\n",
       "    <tr>\n",
       "      <th>5</th>\n",
       "      <td>2022 AOK 4주차 승리하기 (워크북 X)</td>\n",
       "      <td>0.459</td>\n",
       "    </tr>\n",
       "    <tr>\n",
       "      <th>6</th>\n",
       "      <td>2022 AOK 7주차 승리하기 (워크북 X)</td>\n",
       "      <td>0.416</td>\n",
       "    </tr>\n",
       "    <tr>\n",
       "      <th>7</th>\n",
       "      <td>2022 AOK 3주차 승리하기 (워크북 포함)</td>\n",
       "      <td>0.380</td>\n",
       "    </tr>\n",
       "    <tr>\n",
       "      <th>8</th>\n",
       "      <td>2022 AOK 8주차 승리하기 (워크북 포함)</td>\n",
       "      <td>0.303</td>\n",
       "    </tr>\n",
       "    <tr>\n",
       "      <th>9</th>\n",
       "      <td>2022 AOK 5주차 승리하기 (워크북 X)</td>\n",
       "      <td>0.251</td>\n",
       "    </tr>\n",
       "  </tbody>\n",
       "</table>\n",
       "</div>"
      ],
      "text/plain": [
       "                          name  similarity\n",
       "0  2022 AOK 10주차 승리하기 (워크북 포함)       0.730\n",
       "1    2022 AOK 9주차 승리하기 (워크북 X)       0.674\n",
       "2  2022 AOK 15주차 승리하기 (워크북 포함)       0.619\n",
       "3   2022 AOK 2주차 승리하기 (워크북 포함)       0.555\n",
       "4   2022 AOK 15주차 승리하기 (워크북 X)       0.515\n",
       "5    2022 AOK 4주차 승리하기 (워크북 X)       0.459\n",
       "6    2022 AOK 7주차 승리하기 (워크북 X)       0.416\n",
       "7   2022 AOK 3주차 승리하기 (워크북 포함)       0.380\n",
       "8   2022 AOK 8주차 승리하기 (워크북 포함)       0.303\n",
       "9    2022 AOK 5주차 승리하기 (워크북 X)       0.251"
      ]
     },
     "execution_count": 264,
     "metadata": {},
     "output_type": "execute_result"
    }
   ],
   "source": [
    "def get_item_based_result(df,routineId):\n",
    "    global routine_id\n",
    "    tmp = df[int(routineId)].sort_values(ascending=False).reset_index()\n",
    "    tmp.columns = ['routine_id','similarity']\n",
    "    tmp = tmp.query(\"routine_id != {}\".format(routineId))\n",
    "    tmp['routine_id'] = tmp['routine_id'].apply(str)\n",
    "    tmp = pd.merge(tmp,routine_id,on = 'routine_id')\n",
    "    print(\"\")\n",
    "    return tmp[['name','similarity']]\n",
    "\n",
    "#위에서 구한 코싸인 유사도 행렬에서 routine_id을 입력하면 유사도 결과가 나오도록 함수 생성\n",
    "result = get_item_based_result(item_based_collabor_df,2)\n",
    "result.head(10)"
   ]
  }
